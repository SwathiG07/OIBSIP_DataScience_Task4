{
  "nbformat": 4,
  "nbformat_minor": 0,
  "metadata": {
    "colab": {
      "provenance": []
    },
    "kernelspec": {
      "name": "python3",
      "display_name": "Python 3"
    },
    "language_info": {
      "name": "python"
    }
  },
  "cells": [
    {
      "cell_type": "code",
      "source": [
        "import pandas as pd\n",
        "from sklearn.model_selection import train_test_split\n",
        "from sklearn.feature_extraction.text import TfidfVectorizer\n",
        "from sklearn.preprocessing import LabelEncoder\n",
        "from sklearn.linear_model import LogisticRegression\n",
        "from sklearn.metrics import accuracy_score, classification_report, confusion_matrix\n",
        "\n",
        "df = pd.read_csv('/content/spam.csv', encoding='latin-1')\n",
        "\n",
        "df.columns = df.columns.str.strip()\n",
        "\n",
        "print(df.info())\n",
        "print()\n",
        "\n",
        "df=df[['v1','v2']]\n",
        "df.columns=['label','message']\n",
        "le=LabelEncoder()\n",
        "df['label']=le.fit_transform(df['label'])\n",
        "\n",
        "X_train, X_test, y_train, y_test = train_test_split(df['message'], df['label'], test_size=0.2, random_state=42)\n",
        "\n",
        "vectorizer=TfidfVectorizer(stop_words='english',max_features=3000)\n",
        "x_train_tfidf=vectorizer.fit_transform(X_train)\n",
        "x_test_tfidf=vectorizer.transform(X_test)\n",
        "\n",
        "LE=LogisticRegression()\n",
        "LE.fit(x_train_tfidf,y_train)\n",
        "y_pred=LE.predict(x_test_tfidf)\n",
        "accuracy=accuracy_score(y_test,y_pred)\n",
        "print(f'Accuracy:{accuracy*100:.2f}%')\n",
        "print(\"\\nClassification Report:\\n\", classification_report(y_test, y_pred, target_names=['Ham', 'Spam']))\n",
        "print(\"\\nConfusion Matrix:\\n\", confusion_matrix(y_test, y_pred))\n"
      ],
      "metadata": {
        "colab": {
          "base_uri": "https://localhost:8080/"
        },
        "id": "pYZkbuFN1S5e",
        "outputId": "9f3f8255-1c00-4d47-dc7b-85adf1d0fea6"
      },
      "execution_count": 1,
      "outputs": [
        {
          "output_type": "stream",
          "name": "stdout",
          "text": [
            "<class 'pandas.core.frame.DataFrame'>\n",
            "RangeIndex: 5572 entries, 0 to 5571\n",
            "Data columns (total 5 columns):\n",
            " #   Column      Non-Null Count  Dtype \n",
            "---  ------      --------------  ----- \n",
            " 0   v1          5572 non-null   object\n",
            " 1   v2          5572 non-null   object\n",
            " 2   Unnamed: 2  50 non-null     object\n",
            " 3   Unnamed: 3  12 non-null     object\n",
            " 4   Unnamed: 4  6 non-null      object\n",
            "dtypes: object(5)\n",
            "memory usage: 217.8+ KB\n",
            "None\n",
            "\n",
            "Accuracy:96.41%\n",
            "\n",
            "Classification Report:\n",
            "               precision    recall  f1-score   support\n",
            "\n",
            "         Ham       0.96      1.00      0.98       965\n",
            "        Spam       0.97      0.75      0.85       150\n",
            "\n",
            "    accuracy                           0.96      1115\n",
            "   macro avg       0.97      0.88      0.91      1115\n",
            "weighted avg       0.96      0.96      0.96      1115\n",
            "\n",
            "\n",
            "Confusion Matrix:\n",
            " [[962   3]\n",
            " [ 37 113]]\n"
          ]
        }
      ]
    },
    {
      "cell_type": "markdown",
      "source": [
        "Sample Data Testing"
      ],
      "metadata": {
        "id": "KXkxtZui4W9a"
      }
    },
    {
      "cell_type": "code",
      "source": [
        "sample_data = [\"Congratulations! You've won a free iPhone. Click here to claim now!\"]\n",
        "sample_tfidf = vectorizer.transform(sample_data)\n",
        "pred = LE.predict(sample_tfidf)\n",
        "pred_label = le.inverse_transform(pred)[0]\n",
        "\n",
        "print(\"Message:\", sample_data[0])\n",
        "print(\"Predicted Label:\", pred_label)"
      ],
      "metadata": {
        "colab": {
          "base_uri": "https://localhost:8080/"
        },
        "id": "OZGYETM44VQR",
        "outputId": "a7fc563e-15c3-4b0e-e10e-c2fc9ef4ec8b"
      },
      "execution_count": 5,
      "outputs": [
        {
          "output_type": "stream",
          "name": "stdout",
          "text": [
            "Message: Congratulations! You've won a free iPhone. Click here to claim now!\n",
            "Predicted Label: spam\n"
          ]
        }
      ]
    }
  ]
}